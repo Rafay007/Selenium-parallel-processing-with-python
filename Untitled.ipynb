{
 "cells": [
  {
   "cell_type": "code",
   "execution_count": 30,
   "metadata": {},
   "outputs": [
    {
     "name": "stderr",
     "output_type": "stream",
     "text": [
      "D:\\anaconda\\lib\\site-packages\\ipykernel_launcher.py:6: FutureWarning: Passing a negative integer is deprecated in version 1.0 and will not be supported in future version. Instead, use None to not limit the column width.\n",
      "  \n"
     ]
    },
    {
     "data": {
      "text/plain": [
       "'done'"
      ]
     },
     "execution_count": 30,
     "metadata": {},
     "output_type": "execute_result"
    }
   ],
   "source": [
    "import tweepy\n",
    "import json\n",
    "import pandas as pd\n",
    "from tweepy import OAuthHandler\n",
    "\n",
    "pd.set_option('display.max_colwidth', -1)\n",
    "pd.set_option('display.max_columns', 1000)\n",
    "pd.set_option('display.width', 1000)\n",
    "\n",
    "\n",
    "access_token = \"XXXX\"\n",
    "access_token_secret = \"XXXX\"\n",
    "api_key = \"XXXXXX\"\n",
    "api_secret_key = \"XXXXXX\"\n",
    "\n",
    "\n",
    "\n",
    "from concurrent.futures import ProcessPoolExecutor, ThreadPoolExecutor\n",
    "from multiprocessing.pool import ThreadPool, Pool\n",
    "import numpy as np\n",
    "import time\n",
    "import matplotlib.pyplot as plt\n",
    "import glob\n",
    "from PIL import Image\n",
    "import random\n",
    "import string\n",
    "import threading\n",
    "from urllib.request import urlopen\n",
    "from selenium import webdriver\n",
    "from selenium.webdriver.common.keys import Keys\n",
    "import io\n",
    "from selenium.webdriver.common.action_chains import ActionChains\n",
    "\n",
    "\n",
    "%matplotlib inline\n",
    "'done'"
   ]
  },
  {
   "cell_type": "code",
   "execution_count": 31,
   "metadata": {},
   "outputs": [
    {
     "data": {
      "text/plain": [
       "'done'"
      ]
     },
     "execution_count": 31,
     "metadata": {},
     "output_type": "execute_result"
    }
   ],
   "source": [
    "multi_thread= \"**Multi Threading**\"\n",
    "multi_process= \"** Multi Processing**\"\n",
    "\n",
    "def visualize_time_span_usage(results, title):\n",
    "    start,stop = np.array(results).T\n",
    "    plt.barh(range(len(start)),stop-start,left=start)\n",
    "    plt.grid(axis='x')\n",
    "    plt.ylabel(\"Tasks\")\n",
    "    plt.xlabel(\"Seconds\")\n",
    "    plt.title(title)\n",
    "    plt.label='sipahi baba'\n",
    "    return stop[-1]-start[0]\n",
    "def multi_threadings(func, args, workers):\n",
    "    begin_time = time.time()\n",
    "    time.sleep(1)\n",
    "    with ThreadPoolExecutor(max_workers=workers) as executor:\n",
    "        res = executor.map(func, args, [begin_time for i in range(len(args))])\n",
    "    return list(res)\n",
    "\n",
    "\n",
    "def multi_processing(func, args, workers):\n",
    "    begin_time = time.time()\n",
    "    with ProcessPoolExecutor(max_workers=workers) as executor:\n",
    "        res = executor.map(func, args)\n",
    "    return list(res)\n",
    "'done'"
   ]
  },
  {
   "cell_type": "code",
   "execution_count": 37,
   "metadata": {},
   "outputs": [
    {
     "data": {
      "text/plain": [
       "'done'"
      ]
     },
     "execution_count": 37,
     "metadata": {},
     "output_type": "execute_result"
    }
   ],
   "source": [
    "auth = tweepy.OAuthHandler(api_key, api_secret_key)\n",
    "auth.set_access_token(access_token, access_token_secret)\n",
    "api = tweepy.API(auth)\n",
    "\n",
    "\n",
    "api.wait_on_rate_limit = True\n",
    "api.wait_on_rate_limit_notify = True\n",
    "\n",
    "\n",
    "\n",
    "\n",
    "\n",
    "\n",
    "\n",
    "\n",
    "\n",
    "\n",
    "\n",
    "def api_request(url, base):\n",
    "    start = time.time() - base\n",
    "    try:\n",
    "        \n",
    "        word=(url)\n",
    "        date_since = \"2019-11-16\"\n",
    "\n",
    "        tweets = tweepy.Cursor(api.search,q=word,since=date_since).items(2)\n",
    "        data = [[tweet.user.screen_name, tweet.user.location,tweet.text] for tweet in tweets]\n",
    "        df=pd.DataFrame(data,columns=['User Name','User Location','Tweet'])\n",
    "        print('For hashtag : ',url,end='\\n\\n')\n",
    "        print(df,end='\\n\\n\\n-----------------------------------------------\\n\\n\\n')\n",
    "\n",
    "    except Exception as e:\n",
    "        print ('ERROR: %s' % e)\n",
    "    stop = time.time() - base\n",
    "    return start,stop\n",
    "\n",
    "\n",
    "\n",
    "\n",
    "\n",
    "chromedriver_path = 'chromedriver.exe'\n",
    "\n",
    "\n",
    "\n",
    "def bot_auto_views_youtube(url, base=1):\n",
    "    start = time.time() - base\n",
    "    try:\n",
    "        driver = webdriver.Chrome(executable_path=chromedriver_path)\n",
    "        actions = ActionChains(driver)\n",
    "        web=url\n",
    "        driver.get(web)\n",
    "        actions.send_keys(Keys.SPACE).perform()\n",
    "        print(web)\n",
    "\n",
    "    except Exception as e:\n",
    "        print ('ERROR: %s' % e)\n",
    "    stop = time.time() - base\n",
    "    return start,stop\n",
    "\n",
    "\n",
    "\n",
    "\n",
    "\n",
    "\n",
    "\n",
    "\n",
    "\n",
    "\n",
    "\n",
    "\n",
    "\n",
    "\n",
    "\n",
    "'done'\n",
    "\n"
   ]
  },
  {
   "cell_type": "code",
   "execution_count": 5,
   "metadata": {},
   "outputs": [
    {
     "data": {
      "text/plain": [
       "['#MorePowerToPMKhan',\n",
       " '#StudentsWantFeeRelaxation',\n",
       " '#MeAt20',\n",
       " '#دنیارفتہ_رفتہ_بن_گئی_کشمیر',\n",
       " '#corona',\n",
       " '#karachi']"
      ]
     },
     "execution_count": 5,
     "metadata": {},
     "output_type": "execute_result"
    }
   ],
   "source": [
    "urls = ['#MorePowerToPMKhan','#StudentsWantFeeRelaxation','#MeAt20','#دنیارفتہ_رفتہ_بن_گئی_کشمیر','#corona','#karachi']\n",
    "urls\n"
   ]
  },
  {
   "cell_type": "code",
   "execution_count": 6,
   "metadata": {},
   "outputs": [
    {
     "name": "stdout",
     "output_type": "stream",
     "text": [
      "For hashtag :  #MorePowerToPMKhan\n",
      "\n",
      "       User Name      User Location                                                                                                                                            Tweet\n",
      "0  aryankhan8050                     RT @SoniaSyed11: #MorePowerToPMKhan\\n\\nوزیر اعظم پاکستان کی اپیل\\nآئی ایم ایف کی پاکستان سمیت 76 ممالک کے قرضوں میں بڑے ریلیف کی منظوری\\nشکریہ…\n",
      "1  ChMujeeb17     Sahiwal, Pakistan  RT @Aaila_7: #MorePowerToPMKhan\\n\\nThe leader who is trusted by every patriotic Pakistani. The man of courage and bravery.\\n@TheTeamPatriots…  \n",
      "\n",
      "\n",
      "-----------------------------------------------\n",
      "\n",
      "\n",
      "For hashtag :  #StudentsWantFeeRelaxation\n",
      "\n",
      "         User Name                 User Location                                                                                                                                             Tweet\n",
      "0  ArbabImranKhan3  Khyber Pakhtunkhwa, Pakistan  RT @ammaralijan: During lockdown\\n\\n-Students protest against Fee\\n\\n-Workers protest illegal firing\\n\\n-Doctors on hunger strike to demand PPE…\n",
      "1  Patriot04066988                                RT @sheraz100000: ہم سے تمہارا مستقبل ہے\\nآرے ہم بھی تو اسی شہر کے واسی ھیے\\n#StudentsWantFeeRelaxation                                         \n",
      "\n",
      "\n",
      "-----------------------------------------------\n",
      "\n",
      "\n",
      "For hashtag :  #MeAt20\n",
      "\n",
      "      User Name User Location                                                                                   Tweet\n",
      "0  rajinifan007  சிவலோ௧ம் 🤘    RT @RajiniFC: Superstar #Rajinikanth in his 20s ♥️🤘\\n\\n#MeAt20 https://t.co/P0CruiEs4o\n",
      "1  VishalP27304                RT @gopimaniar: #MeAt20 last year of collage and  #lockdown https://t.co/mk7sQpIOu4   \n",
      "\n",
      "\n",
      "-----------------------------------------------\n",
      "\n",
      "\n",
      "For hashtag :  #دنیارفتہ_رفتہ_بن_گئی_کشمیر\n",
      "\n",
      "         User Name         User Location                                                                                                                                          Tweet\n",
      "0  LMC_Shekhupura   Shekhupura, Pakistan  RT @LMC_Sargodha: Wherever you go, the kingdom is Almighty.\\n\\n#دنیارفتہ_رفتہ_بن_گئی_کشمیر https://t.co/CIkvmEZTNx                           \n",
      "1  MalikSa11071428                        RT @Fnat087: #دنیارفتہ_رفتہ_بن_گئی_کشمیر\\nThe rulers should go in prostration and ask for forgiveness of Allah instead of us. Only then forg…\n",
      "\n",
      "\n",
      "-----------------------------------------------\n",
      "\n",
      "\n",
      "For hashtag :  #corona\n",
      "\n",
      "         User Name User Location                                                                                                                                         Tweet\n",
      "0  RajputAshutos22  India         RT @vikasbhaABP: भारत सरकार के आधिकारिक आंकड़ों के मुताबिक 14370 #Corona के मरीजों में से 4291 मरीज अकेले #NizamuddinMarkaz के #TabligiJama…\n",
      "1  GoatRebel                      RT @mauricedehond: Helaas stelde @Nieuwsuur niet de vraag, hoe het kan dat in Japan en Korea het aantal doden een factor 100x of zo klein s…\n",
      "\n",
      "\n",
      "-----------------------------------------------\n",
      "\n",
      "\n",
      "For hashtag :  #karachi\n",
      "\n",
      "      User Name                User Location                                                                                                                                           Tweet\n",
      "0  abidtd                                     RT @Samarjournalist: کراچی۔پریڈی اسٹریٹ پر بدترین ٹریفک جام ، لائنز ایریا کی خواتین اور دیگر افراد سڑکوں پر آگئے نعرے بازی\\n#protest \\n#Karac…\n",
      "1  newstimehdtv  Dubai, United Arab Emirates  News | 12.00 PM | 17 April 2020\\nhttps://t.co/v3k5QT55FD\\n\\n#NewsTimeHDTV #NewsTime #AnsarAkram #PakistanNews… https://t.co/rFcBp8Z8wS        \n",
      "\n",
      "\n",
      "-----------------------------------------------\n",
      "\n",
      "\n",
      "Wall time: 7.37 s\n"
     ]
    },
    {
     "data": {
      "text/plain": [
       "[(1587223222.1226094, 1587223223.260516),\n",
       " (1587223223.2612326, 1587223224.4589589),\n",
       " (1587223224.4589589, 1587223225.899672),\n",
       " (1587223225.900577, 1587223226.9564703),\n",
       " (1587223226.9571574, 1587223228.289806),\n",
       " (1587223228.2908044, 1587223229.4869325)]"
      ]
     },
     "execution_count": 6,
     "metadata": {},
     "output_type": "execute_result"
    }
   ],
   "source": [
    "%time [api_request(url, 1) for url in urls]"
   ]
  },
  {
   "cell_type": "code",
   "execution_count": 7,
   "metadata": {},
   "outputs": [
    {
     "name": "stdout",
     "output_type": "stream",
     "text": [
      "For hashtag :  #MorePowerToPMKhan\n",
      "\n",
      "        User Name User Location                                                                                                                                             Tweet\n",
      "0  aryankhan8050                 RT @SoniaSyed11: #MorePowerToPMKhan\\n\\nGreat Efforts khan sb, Need continuous periodic Hammering on Gloabal Platforms regarding ease of doing…  \n",
      "1  Suspendedsoul_                RT @Superrrr_Novaaa: #MorePowerToPMKhan \\nدل نیک، ہو نیت صاف، تو ہو انصاف،\\nکہے عمران خان۔۔!!\\n@theteampatriots \\n@Superrrr_Novaaa https://t.co…\n",
      "\n",
      "\n",
      "-----------------------------------------------\n",
      "\n",
      "\n",
      "For hashtag :  #StudentsWantFeeRelaxation\n",
      "\n",
      "         User Name           User Location                                                                                                                         Tweet\n",
      "0  Patriot04066988                          RT @Emaan6550: #StudentsWantFeeRelaxation \\nDemanding two to three months’ advance fee has no moral or legal justification..\n",
      "1  JaweriaNoor0     Karachi Naya pakistan   RT @nur12_al: #StudentsWantFeeRelaxation\\n\\nStop online classes stop taking Fee                                             \n",
      "\n",
      "\n",
      "-----------------------------------------------\n",
      "\n",
      "\n",
      "For hashtag :  #MeAt20\n",
      "\n",
      "      User Name         User Location                                                                                                                                           Tweet\n",
      "0  Ykadyan123    New Delhi, India      RT @realshooterdadi: अरे #MeAt20 वालों भगवान माफ़ नही करेगा मैंने तो कैमरा भी साठ के बाद देखा \\n\\nयो मिली पुरानी माउंट आबू राजस्थान की है  #M…\n",
      "1  rizvi_shazil  Andheri West, Mumbai  RT @Jawaharlal_Nehr: Me at 20            😂               Me at 70\\n\\n#MeAt20 https://t.co/8Ks2uMjC1L                                          \n",
      "\n",
      "\n",
      "-----------------------------------------------\n",
      "\n",
      "\n",
      "For hashtag :  #دنیارفتہ_رفتہ_بن_گئی_کشمیر\n",
      "\n",
      "         User Name User Location                                                                                                                                         Tweet\n",
      "0  AmeerHu62278126                RT @JaGGaKhooji007: لبیک والے پاک فوج کے ساتھ کھڑے ہیں😎 #دنیارفتہ_رفتہ_بن_گئی_کشمیر https://t.co/JDuByZ8tmM                                 \n",
      "1  MalikSa11071428                RT @UmarKHR: #دنیارفتہ_رفتہ_بن_گئی_کشمیر\\nSoil is red, waterways are red, Kashmiris are tie with blood string. We need opportunity, we need…\n",
      "\n",
      "\n",
      "-----------------------------------------------\n",
      "\n",
      "\n",
      "For hashtag :  #corona\n",
      "\n",
      "         User Name    User Location                                                                                                                                           Tweet\n",
      "0  Saadetkecioren1  Ankara, Türkiye  RT @saadetkadin: “HATIRLAMAK NEDİR?”\\n\\nDaha önce olmuş, yaşanmış, tanınmış ya da öğrenilmiş ama unutulmuş bir şeyi bellekte yeniden yaşamakt…\n",
      "1  cumcuravzw       Belgium          RT @sarcomapatients: The constant news about the #corona #virus can be worrying, especially for people with #cancer and their families. We'…  \n",
      "\n",
      "\n",
      "-----------------------------------------------\n",
      "\n",
      "\n",
      "For hashtag :  #karachi\n",
      "\n",
      "      User Name                User Location                                                                                                                                           Tweet\n",
      "0  abidtd                                     RT @Samarjournalist: کراچی۔پریڈی اسٹریٹ پر بدترین ٹریفک جام ، لائنز ایریا کی خواتین اور دیگر افراد سڑکوں پر آگئے نعرے بازی\\n#protest \\n#Karac…\n",
      "1  newstimehdtv  Dubai, United Arab Emirates  News | 12.00 PM | 17 April 2020\\nhttps://t.co/v3k5QT55FD\\n\\n#NewsTimeHDTV #NewsTime #AnsarAkram #PakistanNews… https://t.co/rFcBp8Z8wS        \n",
      "\n",
      "\n",
      "-----------------------------------------------\n",
      "\n",
      "\n"
     ]
    },
    {
     "data": {
      "text/plain": [
       "7.692816257476807"
      ]
     },
     "execution_count": 7,
     "metadata": {},
     "output_type": "execute_result"
    },
    {
     "data": {
      "image/png": "[encoded data removed]",
      "text/plain": [
       "<Figure size 432x288 with 1 Axes>"
      ]
     },
     "metadata": {
      "needs_background": "light"
     },
     "output_type": "display_data"
    }
   ],
   "source": [
    "visualize_time_span_usage(multi_threadings(api_request, urls, 1), \"just 1 thread\")"
   ]
  },
  {
   "cell_type": "code",
   "execution_count": 8,
   "metadata": {},
   "outputs": [
    {
     "name": "stdout",
     "output_type": "stream",
     "text": [
      "For hashtag :  #StudentsWantFeeRelaxation\n",
      "\n",
      "         User Name           User Location                                                                                                                                           Tweet\n",
      "0  Patriot04066988                          RT @RabiaNoorKhan9: #StudentsWantFeeRelaxation\\n\\nOver the last 30 years, the wave has spread across Pakistan, completely taking over the edu…\n",
      "1  JaweriaNoor0     Karachi Naya pakistan   RT @TashfeenKhalid5: #StudentsWantFeeRelaxation\\n\\nYouth pe tars khao. https://t.co/8xiACasjz1                                                \n",
      "\n",
      "\n",
      "-----------------------------------------------\n",
      "\n",
      "\n",
      "For hashtag :  #MorePowerToPMKhan\n",
      "\n",
      "       User Name User Location                                                                                                                                          Tweet\n",
      "0  1kashmiran     Planet Earth  RT @Samzzz198: #MorePowerToPMKhan\\nThe houses are being constructed for low income groups and salaried people in Islamabad, Rawalpindi, Laho…\n",
      "1  aryankhan8050                RT @SoniaSyed11: #MorePowerToPMKhan\\n\\nThe help of God for the maintenance is a supporting humanity. https://t.co/T77354j3wl                 \n",
      "\n",
      "\n",
      "-----------------------------------------------\n",
      "\n",
      "\n",
      "For hashtag :  #MeAt20\n",
      "\n",
      "        User Name     User Location                                                                                                             Tweet\n",
      "0  satishtyagiINC  New Delhi, India  RT @mahabalmishra: जब मैं 20 का था,\\nतब मैं कुछ ऐसा था👇🏻 और अब 👇🏻\\n#MeAt20 https://t.co/vK5tmd18oc              \n",
      "1  Gameothology                      RT @Dogen: Once a naruto impersonating weeb, always a naruto impersonating weeb\\n#MeAt20 https://t.co/AY5tekkgUE\n",
      "\n",
      "\n",
      "-----------------------------------------------\n",
      "\n",
      "\n",
      "For hashtag :  #دنیارفتہ_رفتہ_بن_گئی_کشمیر\n",
      "\n",
      "      User Name        User Location                                                                                                                                           Tweet\n",
      "0  LMC_Sargodha  Sargodha, Pakistan   We are talking about war.......!\\nWhat do we have for war?\\nIf anyone is thinking of F-16, then listen, Momin believe… https://t.co/RyPgFEJq1L\n",
      "1  DrPasha16     اسلام آباد, پاکستان  RT @LMC_RaWal_pind: گرماؤ غلاموں کا لہو سوزِ یقین سے\\nکنجشاک فرو مایہ کو شاہین سے لڑادو\\n#دنیارفتہ_رفتہ_بن_گئی_کشمیر https://t.co/U08Dw9VRWz  \n",
      "\n",
      "\n",
      "-----------------------------------------------\n",
      "\n",
      "\n",
      "For hashtag :  #corona\n",
      "\n",
      "        User Name              User Location                                                                                                                                          Tweet\n",
      "0  DURRAY_Germany  Main-Taunus-Kreis, Hessen  RT @Hartes_Geld: Endlich: Dank #Corona werden Tausende Ärzte unter den Flüchtlingen aktiv!\\nDie Medien verarschen den deutschen Michel, dass…\n",
      "1  _papow                                     RT @neriin03: „Wir beginnen mit dem Unterricht... natürlich ihr müsst euch alle (15 Schüler) noch die Hände waschen... ja mit Seife... ja m… \n",
      "\n",
      "\n",
      "-----------------------------------------------\n",
      "\n",
      "\n",
      "For hashtag :  #karachi\n",
      "\n",
      "   User Name        User Location                                                                                                                                           Tweet\n",
      "0  RSabbasi2  Islamabad, Pakistan  RT @MNajeebHaroon: It’s with a heavy heart that I’ve tendered my resignation from the @NAofPakistan to PM @ImranKhanPTI. It’s been 20 month…  \n",
      "1  abidtd                          RT @Samarjournalist: کراچی۔پریڈی اسٹریٹ پر بدترین ٹریفک جام ، لائنز ایریا کی خواتین اور دیگر افراد سڑکوں پر آگئے نعرے بازی\\n#protest \\n#Karac…\n",
      "\n",
      "\n",
      "-----------------------------------------------\n",
      "\n",
      "\n"
     ]
    },
    {
     "data": {
      "text/plain": [
       "3.8655800819396973"
      ]
     },
     "execution_count": 8,
     "metadata": {},
     "output_type": "execute_result"
    },
    {
     "data": {
      "image/png": "[encoded data removed]",
      "text/plain": [
       "<Figure size 432x288 with 1 Axes>"
      ]
     },
     "metadata": {
      "needs_background": "light"
     },
     "output_type": "display_data"
    }
   ],
   "source": [
    "visualize_time_span_usage(multi_threadings(api_request, urls, 2), multi_thread)"
   ]
  },
  {
   "cell_type": "code",
   "execution_count": 10,
   "metadata": {},
   "outputs": [
    {
     "name": "stdout",
     "output_type": "stream",
     "text": [
      "For hashtag :  #MorePowerToPMKhan\n",
      "\n",
      "    User Name    User Location                                                                                                                                           Tweet\n",
      "0  ranarazi20  Kassel, Germany  RT @Superrrr_Novaaa: #MorePowerToPMKhan\\n\"Inko rulaun ga mein\"\\n@Superrrr_Novaaa \\n@theteampatriots https://t.co/rhqdivkN5M                   \n",
      "1  1kashmiran  Planet Earth     RT @Samia__2: #MorePowerToPMKhan\\nSupport PM Khan..\\n\\nThe Ehsaas Khafaalat Programme gives 7 million deserving women a RS. 2000 cash stipend…\n",
      "\n",
      "\n",
      "-----------------------------------------------\n",
      "\n",
      "\n",
      "For hashtag :  #دنیارفتہ_رفتہ_بن_گئی_کشمیر\n",
      "\n",
      "         User Name      User Location                                                                                                                                               Tweet\n",
      "0  MalikSa11071428                     RT @92_AliBajwa: Every time you watch  &amp; listen to these slogans, you'll get goosebumps\\n#دنیارفتہ_رفتہ_بن_گئی_کشمیر\\n https://t.co/OYgUkUPwub\n",
      "1  AnaamRizvi786    Sialkot, Pakistan  RT @Adeel41219899: سودا گری نہں یہی عبادت خدا کی ہے بے غرض جزا کی تمنا ہی چھوڑ دے (اقبال)     #دنیارفتہ_رفتہ_بن_گئی_کشمیر https://t.co/cuIS…      \n",
      "\n",
      "\n",
      "-----------------------------------------------\n",
      "\n",
      "\n",
      "For hashtag :  #StudentsWantFeeRelaxation\n",
      "\n",
      "    User Name User Location                                                                                                                                          Tweet\n",
      "0  Zidi_kuri1                RT @rookhi75: #StudentsWantFeeRelaxation\\nIn this adversity how concerned are they for their profits.The coffins don’t have pockets.....Reme…\n",
      "1  Zidi_kuri1                RT @rookhi75: #StudentsWantFeeRelaxation\\nLet’s make sure that being educated don’t deprive us of health and happiness. https://t.co/iF7y6H2…\n",
      "\n",
      "\n",
      "-----------------------------------------------\n",
      "\n",
      "\n",
      "For hashtag :  #MeAt20\n",
      "\n",
      "      User Name       User Location                                                                                                                                 Tweet\n",
      "0  rajeevicaktr  Delhi               RT @maliniawasthi: That's me when I was 20..\\nPerforming at Ravindralaya auditorium #Lucknow!\\n😍❤️ \\n#MeAt20 https://t.co/o4n0TrO4K6\n",
      "1  SheZaidi      Handcross, England  RT @fahdhyd: PM was at #MeAt20\\n 20,30,40,60 https://t.co/2bHWj8sU5C                                                                \n",
      "\n",
      "\n",
      "-----------------------------------------------\n",
      "\n",
      "\n",
      "For hashtag :  #corona\n",
      "\n",
      "       User Name   User Location                                                                                                                                         Tweet\n",
      "0  ferdibulut_16  Bursa, Türkiye  RT @aysegulerginnlp: Ah bir Bit Artık #Corona #coronavirus Tez Vakitte Yerleşmeye KAŞ AŞK a KoÇ 🐏 AşK la 🌹♥️🪔 #KaŞAşK #Kaş Ne de Güzel Olmu…\n",
      "1  calmayan       Kadıköy         #corona morona bi yere kadar... Yaşasın #desperados! https://t.co/4CrPCvBVUx                                                                \n",
      "\n",
      "\n",
      "-----------------------------------------------\n",
      "\n",
      "\n",
      "For hashtag :  #karachi\n",
      "\n",
      "   User Name        User Location                                                                                                                                         Tweet\n",
      "0  RSabbasi2  Islamabad, Pakistan  RT @MNajeebHaroon: @Sabbandkardo @NAofPakistan @ImranKhanPTI @Fsnaqvi @ArsalanGhumman @HaiderKonsult @ARYNEWSOFFICIAL @geonews_urdu @SAMAAT…\n",
      "1  RSabbasi2  Islamabad, Pakistan  RT @MNajeebHaroon: It’s with a heavy heart that I’ve tendered my resignation from the @NAofPakistan to PM @ImranKhanPTI. It’s been 20 month…\n",
      "\n",
      "\n",
      "-----------------------------------------------\n",
      "\n",
      "\n"
     ]
    },
    {
     "data": {
      "text/plain": [
       "3.0118916034698486"
      ]
     },
     "execution_count": 10,
     "metadata": {},
     "output_type": "execute_result"
    },
    {
     "data": {
      "image/png": "[encoded data removed]",
      "text/plain": [
       "<Figure size 432x288 with 1 Axes>"
      ]
     },
     "metadata": {
      "needs_background": "light"
     },
     "output_type": "display_data"
    }
   ],
   "source": [
    "visualize_time_span_usage(multi_threadings(api_request, urls, 4), multi_thread)"
   ]
  },
  {
   "cell_type": "code",
   "execution_count": 11,
   "metadata": {},
   "outputs": [
    {
     "name": "stdout",
     "output_type": "stream",
     "text": [
      "For hashtag :  #StudentsWantFeeRelaxation\n",
      "\n",
      "      User Name           User Location                                                                                                                                          Tweet\n",
      "0  Zidi_kuri1                            RT @rookhi75: #StudentsWantFeeRelaxation\\nBeing selfish is another form of corruption. https://t.co/0DP5xk40h7                               \n",
      "1  JaweriaNoor0  Karachi Naya pakistan   RT @Emaan6550: #StudentsWantFeeRelaxation\\nIn a country where education is much more expensive than the combined bread and butter of a middl…\n",
      "\n",
      "\n",
      "-----------------------------------------------\n",
      "\n",
      "\n",
      "For hashtag :  #دنیارفتہ_رفتہ_بن_گئی_کشمیر\n",
      "\n",
      "         User Name                   User Location                                                                                                                                         Tweet\n",
      "0  Iftekha06909605  Jeddah, Kingdom of Saudi Arabi  RT @cH_Asad_92: It has been almost 255 days since Kashmir was brutally cut off from the world by India - another brutality towards people w…\n",
      "1  MarwatAbdull                                     ھم نے جہاد کے ذریعے  افغنستان  جسے کمزور ملک کا دوسپر پاور کو شکست کھاتے دیکھا اور دوسری طرف امن پلاسی کی وجہ کشمير… https://t.co/XA76XYFQJJ\n",
      "\n",
      "\n",
      "-----------------------------------------------\n",
      "\n",
      "\n",
      "For hashtag :  #MorePowerToPMKhan\n",
      "\n",
      "    User Name User Location                                                                                                                                            Tweet\n",
      "0  1kashmiran  Planet Earth  RT @jamshaid_sufia: #MorePowerToPMKhan\\n\\nSpecial development package for the Federally Administered Tribal Area (FATA).\\n\\nDefense budget cut…\n",
      "1  Aaila_7                   #MorePowerToPMKhan\\nHe proposed a think-tank of experts from the ministries of National Food Security, Economic Affa… https://t.co/RPTRpU0FBT  \n",
      "\n",
      "\n",
      "-----------------------------------------------\n",
      "\n",
      "\n",
      "For hashtag :  #karachi\n",
      "\n",
      "         User Name              User Location                                                                                                                                         Tweet\n",
      "0  SabiIlluxinist   اوکاڑہ, لاہور, اسلام آباد  RT @MNajeebHaroon: It’s with a heavy heart that I’ve tendered my resignation from the @NAofPakistan to PM @ImranKhanPTI. It’s been 20 month…\n",
      "1  CommissionerKhi  Karachi, Pakistan          RT @TOKCityOfLights: BREAKING: @CommissionerKhi makes face masks mandatory in #Karachi - Acc to notification, “Face masks are mandatory for…\n",
      "\n",
      "\n",
      "-----------------------------------------------\n",
      "\n",
      "\n",
      "For hashtag :  #MeAt20\n",
      "\n",
      "       User Name User Location                                                                                              Tweet\n",
      "0  imUmar_Farooq  Pakistan      #MeAt22\\nactualy #MeAt20 wali mili nai😂😂 https://t.co/lIvS8YSese                                 \n",
      "1  omashu01       Hindustan     RT @vivekagnihotri: #MeAt20 on a special request form bro @ARanganathan72 https://t.co/L9gXekGxWd\n",
      "\n",
      "\n",
      "-----------------------------------------------\n",
      "\n",
      "\n",
      "For hashtag :  #corona\n",
      "\n",
      "        User Name User Location                                                                                                                                          Tweet\n",
      "0  DubeyShawshank                This person went out to buy some stuff, police caught him and asked him why you are out. He abused them \\nNow, may h… https://t.co/UWAgpM8V4L\n",
      "1  _mukemmelf                    RT @artofpsd: Son akşam görüşmesi #corona https://t.co/ctDlR2RwU6                                                                            \n",
      "\n",
      "\n",
      "-----------------------------------------------\n",
      "\n",
      "\n"
     ]
    },
    {
     "data": {
      "text/plain": [
       "2.7199149131774902"
      ]
     },
     "execution_count": 11,
     "metadata": {},
     "output_type": "execute_result"
    },
    {
     "data": {
      "image/png": "[encoded data removed]",
      "text/plain": [
       "<Figure size 432x288 with 1 Axes>"
      ]
     },
     "metadata": {
      "needs_background": "light"
     },
     "output_type": "display_data"
    }
   ],
   "source": [
    "visualize_time_span_usage(multi_threadings(api_request, urls, 8), multi_thread)"
   ]
  },
  {
   "cell_type": "code",
   "execution_count": 13,
   "metadata": {},
   "outputs": [
    {
     "name": "stdout",
     "output_type": "stream",
     "text": [
      "This is for threads no:  2\n",
      "For hashtag :  #StudentsWantFeeRelaxation\n",
      "\n",
      "      User Name           User Location                                                                                                                                          Tweet\n",
      "0  Zidi_kuri1                            RT @rookhi75: #StudentsWantFeeRelaxation\\nThe relaxation demanded by students is petty one. Education Mafia should have to consider it. http…\n",
      "1  JaweriaNoor0  Karachi Naya pakistan   RT @rookhi75: #StudentsWantFeeRelaxation\\nThe whole life is there to earn profits let’s educate our young ones on the basis of no profit no… \n",
      "\n",
      "\n",
      "-----------------------------------------------\n",
      "\n",
      "\n",
      "For hashtag :  #MorePowerToPMKhan\n",
      "\n",
      "       User Name     User Location                                                                                                                                         Tweet\n",
      "0  TIIcon1                          #NBC \\n@TIIcon1 \\n#MorePowerToPMKhan \\nSudhar ja\\n@NabTheDentist ab ke bar aap ko dosry dentist k pass baijna pry ga https://t.co/KTQC9t8LV9\n",
      "1  HamzaHashmiii  US MuzaffarGarh   RT @PATRIOT_ANAS: یہ وقت سیاست کا نہیں بلکہ اپنے وزیراعظم کو سپورٹ کرنے کا ہے اور اس وبا کو ختم کرنے کا ہے کیوں کے سب سے پہلے پاکستان اور پ…\n",
      "\n",
      "\n",
      "-----------------------------------------------\n",
      "\n",
      "\n",
      "For hashtag :  #دنیارفتہ_رفتہ_بن_گئی_کشمیر\n",
      "\n",
      "         User Name            User Location                                                                                                                                        Tweet\n",
      "0  GhulamBilalBhu1                           RT @Atif__Noori: کشمیر، فلسطین، برما اور شام پر انسانیت سوز مظالم  قتل عام، لاک ڈاون اور نسل کشی پر اقوام  عالم اور خصوصا بلخصوص امت مسلمہ…\n",
      "1  Murtazashah7860  Kingdom of Saudi Arabia  RT @Abubaka23434674: بےشک بجا فرمایا \\n#دنیارفتہ_رفتہ_بن_گئی_کشمیر                                                                         \n",
      "\n",
      "\n",
      "-----------------------------------------------\n",
      "\n",
      "\n",
      "For hashtag :  #MeAt20\n",
      "\n",
      "      User Name   User Location                                                                                                                                           Tweet\n",
      "0  mayank1999s   India           RT @Iyervval: This day, 7 years ago at the basilica cistern opposite they #HagiaSophia in Istanbul. My buddy @aryaman89’s #MeAt20 (on left)…  \n",
      "1  ezrah_prince  Chennai, India  RT @bhupeshbaghel: Although life is going through a test match...yet sharing a picture of 20-20 phase is allowed.\\n\\n#MeAt20 https://t.co/6cE…\n",
      "\n",
      "\n",
      "-----------------------------------------------\n",
      "\n",
      "\n",
      "For hashtag :  #corona\n",
      "\n",
      "       User Name     User Location                                                                                                                                        Tweet\n",
      "0  ShraddhaAryal  Nepal             बाटोमा पैसा भेटियो भने पनि अब टिप्ने वातावरण भएन् 👎🏻 #StayHomeStaySafe #corona                                                             \n",
      "1  Rehan22575201  New Delhi, India  RT @DevprakashIRS: वायरस से मिलकर लड़ने का टाइम है.\\n@RahulGandhi ने कहा कि ये समय सरकार और विपक्ष के बीच लड़ाई का नहीं बल्कि कोरोना वायरस…\n",
      "\n",
      "\n",
      "-----------------------------------------------\n",
      "\n",
      "\n",
      "For hashtag :  #karachi\n",
      "\n",
      "      User Name      User Location                                                                                                                                                   Tweet\n",
      "0  RomiiPTI      Karachi, Pakistan  Sindh Government Announcement on Lockdown,,,, 18 April \\nMarket’s open as per time and day schedule \\n#lockdown… https://t.co/c4jCLLyVMx              \n",
      "1  KhadimofDeen                     RT @WifaqulUlama: 📌 #CoronaVirus &amp; #Ramadan2020 \\n\\n❶ #WHO mitigation guidelines for #Ramadan \\n\\nhttps://t.co/KBe9OuOT1f\\n\\n❷ #President of #Pak…\n",
      "\n",
      "\n",
      "-----------------------------------------------\n",
      "\n",
      "\n",
      "This is for threads no:  4\n",
      "For hashtag :  #MorePowerToPMKhan\n",
      "\n",
      "       User Name     User Location                                                                                                                                         Tweet\n",
      "0  TIIcon1                          #NBC \\n@TIIcon1 \\n#MorePowerToPMKhan \\nSudhar ja\\n@NabTheDentist ab ke bar aap ko dosry dentist k pass baijna pry ga https://t.co/KTQC9t8LV9\n",
      "1  HamzaHashmiii  US MuzaffarGarh   RT @PATRIOT_ANAS: یہ وقت سیاست کا نہیں بلکہ اپنے وزیراعظم کو سپورٹ کرنے کا ہے اور اس وبا کو ختم کرنے کا ہے کیوں کے سب سے پہلے پاکستان اور پ…\n",
      "\n",
      "\n",
      "-----------------------------------------------\n",
      "\n",
      "\n",
      "For hashtag :  #StudentsWantFeeRelaxation\n",
      "\n",
      "      User Name           User Location                                                                                                                                          Tweet\n",
      "0  Zidi_kuri1                            RT @rookhi75: #StudentsWantFeeRelaxation\\nThe relaxation demanded by students is petty one. Education Mafia should have to consider it. http…\n",
      "1  JaweriaNoor0  Karachi Naya pakistan   RT @rookhi75: #StudentsWantFeeRelaxation\\nThe whole life is there to earn profits let’s educate our young ones on the basis of no profit no… \n",
      "\n",
      "\n",
      "-----------------------------------------------\n",
      "\n",
      "\n",
      "For hashtag : For hashtag :  #دنیارفتہ_رفتہ_بن_گئی_کشمیر\n",
      "\n",
      "         User Name            User Location                                                                                                                                        Tweet\n",
      "0  GhulamBilalBhu1                           RT @Atif__Noori: کشمیر، فلسطین، برما اور شام پر انسانیت سوز مظالم  قتل عام، لاک ڈاون اور نسل کشی پر اقوام  عالم اور خصوصا بلخصوص امت مسلمہ…\n",
      "1  Murtazashah7860  Kingdom of Saudi Arabia  RT @Abubaka23434674: بےشک بجا فرمایا \\n#دنیارفتہ_رفتہ_بن_گئی_کشمیر                                                                          #MeAt20\n",
      "\n",
      "      User Name   User Location                                                                                                                                           Tweet\n",
      "0  mayank1999s   India           RT @Iyervval: This day, 7 years ago at the basilica cistern opposite they #HagiaSophia in Istanbul. My buddy @aryaman89’s #MeAt20 (on left)…  \n",
      "1  ezrah_prince  Chennai, India  RT @bhupeshbaghel: Although life is going through a test match...yet sharing a picture of 20-20 phase is allowed.\\n\\n#MeAt20 https://t.co/6cE…\n",
      "\n",
      "\n",
      "-----------------------------------------------\n",
      "\n",
      "\n",
      "\n",
      "\n",
      "\n",
      "-----------------------------------------------\n",
      "\n",
      "\n",
      "For hashtag :  #karachi\n",
      "\n",
      "      User Name      User Location                                                                                                                                                   Tweet\n",
      "0  RomiiPTI      Karachi, Pakistan  Sindh Government Announcement on Lockdown,,,, 18 April \\nMarket’s open as per time and day schedule \\n#lockdown… https://t.co/c4jCLLyVMx              \n",
      "1  KhadimofDeen                     RT @WifaqulUlama: 📌 #CoronaVirus &amp; #Ramadan2020 \\n\\n❶ #WHO mitigation guidelines for #Ramadan \\n\\nhttps://t.co/KBe9OuOT1f\\n\\n❷ #President of #Pak…\n",
      "\n",
      "\n",
      "-----------------------------------------------\n",
      "\n",
      "\n",
      "For hashtag :  #corona\n",
      "\n",
      "       User Name     User Location                                                                                                                                        Tweet\n",
      "0  ShraddhaAryal  Nepal             बाटोमा पैसा भेटियो भने पनि अब टिप्ने वातावरण भएन् 👎🏻 #StayHomeStaySafe #corona                                                             \n",
      "1  Rehan22575201  New Delhi, India  RT @DevprakashIRS: वायरस से मिलकर लड़ने का टाइम है.\\n@RahulGandhi ने कहा कि ये समय सरकार और विपक्ष के बीच लड़ाई का नहीं बल्कि कोरोना वायरस…\n",
      "\n",
      "\n",
      "-----------------------------------------------\n",
      "\n",
      "\n",
      "This is for threads no:  6\n",
      "For hashtag :  #StudentsWantFeeRelaxation\n",
      "\n",
      "      User Name           User Location                                                                                                                                          Tweet\n",
      "0  Zidi_kuri1                            RT @rookhi75: #StudentsWantFeeRelaxation\\nThe relaxation demanded by students is petty one. Education Mafia should have to consider it. http…\n",
      "1  JaweriaNoor0  Karachi Naya pakistan   RT @rookhi75: #StudentsWantFeeRelaxation\\nThe whole life is there to earn profits let’s educate our young ones on the basis of no profit no… \n",
      "\n",
      "\n",
      "-----------------------------------------------\n",
      "\n",
      "\n"
     ]
    },
    {
     "name": "stdout",
     "output_type": "stream",
     "text": [
      "For hashtag :  #MeAt20\n",
      "\n",
      "      User Name   User Location                                                                                                                                           Tweet\n",
      "0  mayank1999s   India           RT @Iyervval: This day, 7 years ago at the basilica cistern opposite they #HagiaSophia in Istanbul. My buddy @aryaman89’s #MeAt20 (on left)…  \n",
      "1  ezrah_prince  Chennai, India  RT @bhupeshbaghel: Although life is going through a test match...yet sharing a picture of 20-20 phase is allowed.\\n\\n#MeAt20 https://t.co/6cE…\n",
      "\n",
      "\n",
      "-----------------------------------------------\n",
      "\n",
      "\n",
      "For hashtag :  #دنیارفتہ_رفتہ_بن_گئی_کشمیر\n",
      "\n",
      "         User Name            User Location                                                                                                                                        Tweet\n",
      "0  GhulamBilalBhu1                           RT @Atif__Noori: کشمیر، فلسطین، برما اور شام پر انسانیت سوز مظالم  قتل عام، لاک ڈاون اور نسل کشی پر اقوام  عالم اور خصوصا بلخصوص امت مسلمہ…\n",
      "1  Murtazashah7860  Kingdom of Saudi Arabia  RT @Abubaka23434674: بےشک بجا فرمایا \\n#دنیارفتہ_رفتہ_بن_گئی_کشمیر                                                                         \n",
      "\n",
      "\n",
      "-----------------------------------------------\n",
      "\n",
      "\n",
      "For hashtag :  #corona\n",
      "\n",
      "       User Name     User Location                                                                                                                                        Tweet\n",
      "0  ShraddhaAryal  Nepal             बाटोमा पैसा भेटियो भने पनि अब टिप्ने वातावरण भएन् 👎🏻 #StayHomeStaySafe #corona                                                             \n",
      "1  Rehan22575201  New Delhi, India  RT @DevprakashIRS: वायरस से मिलकर लड़ने का टाइम है.\\n@RahulGandhi ने कहा कि ये समय सरकार और विपक्ष के बीच लड़ाई का नहीं बल्कि कोरोना वायरस…\n",
      "\n",
      "\n",
      "-----------------------------------------------\n",
      "\n",
      "\n",
      "For hashtag :  #karachi\n",
      "\n",
      "      User Name      User Location                                                                                                                                                   Tweet\n",
      "0  RomiiPTI      Karachi, Pakistan  Sindh Government Announcement on Lockdown,,,, 18 April \\nMarket’s open as per time and day schedule \\n#lockdown… https://t.co/c4jCLLyVMx              \n",
      "1  KhadimofDeen                     RT @WifaqulUlama: 📌 #CoronaVirus &amp; #Ramadan2020 \\n\\n❶ #WHO mitigation guidelines for #Ramadan \\n\\nhttps://t.co/KBe9OuOT1f\\n\\n❷ #President of #Pak…\n",
      "\n",
      "\n",
      "-----------------------------------------------\n",
      "\n",
      "\n",
      "For hashtag :  #MorePowerToPMKhan\n",
      "\n",
      "       User Name     User Location                                                                                                                                         Tweet\n",
      "0  TIIcon1                          #NBC \\n@TIIcon1 \\n#MorePowerToPMKhan \\nSudhar ja\\n@NabTheDentist ab ke bar aap ko dosry dentist k pass baijna pry ga https://t.co/KTQC9t8LV9\n",
      "1  HamzaHashmiii  US MuzaffarGarh   RT @PATRIOT_ANAS: یہ وقت سیاست کا نہیں بلکہ اپنے وزیراعظم کو سپورٹ کرنے کا ہے اور اس وبا کو ختم کرنے کا ہے کیوں کے سب سے پہلے پاکستان اور پ…\n",
      "\n",
      "\n",
      "-----------------------------------------------\n",
      "\n",
      "\n",
      "This is for threads no:  8\n",
      "For hashtag :  #MorePowerToPMKhan\n",
      "\n",
      "       User Name     User Location                                                                                                                                         Tweet\n",
      "0  HamzaHashmiii  US MuzaffarGarh   RT @PATRIOT_ANAS: تبدیلی کے مخالف مافیاز  حکومت کو عدم استحکام کا شکار کرنے کے لئے منفی پروپیگنڈا کرتے ہیں اور ان کی مثبت تبدیلیوں کا راستہ…\n",
      "1  azidaniyal33   dhund k bata      RT @AhsanRashid12: سندھ حکومت گھوما پھرا کر اب کاروبار مشروط طور پر کھولنے جا رہی ہے جو عمران خان شروع سے کہہ رہے ہیں۔۔ وژن والے لیڈر اور ٹ…\n",
      "\n",
      "\n",
      "-----------------------------------------------\n",
      "\n",
      "\n",
      "For hashtag :  #StudentsWantFeeRelaxation\n",
      "\n",
      "      User Name           User Location                                                                                                                                         Tweet\n",
      "0  JaweriaNoor0  Karachi Naya pakistan   RT @WaqasKh34777646: Eduction is not for SALE...\\n#studentswantfeerelaxation                                                                \n",
      "1  rana_marib                            RT @ShoaibQ64306138: We want 70% of our semester fees back from these looters private universities mafia. Please pay attention to student d…\n",
      "\n",
      "\n",
      "-----------------------------------------------\n",
      "\n",
      "\n",
      "For hashtag :  #دنیارفتہ_رفتہ_بن_گئی_کشمیر\n",
      "\n",
      "         User Name            User Location                                                                                                                  Tweet\n",
      "0  Murtazashah7860  Kingdom of Saudi Arabia  RT @Labaik78636: ان شاء اللّه کشمیر چھین لیں لبیک کہنے والے \\n#دنیارفتہ_رفتہ_بن_گئی_کشمیر https://t.co/VJWY3trhbC    \n",
      "1  umer52786        Punjab, Pakistan         RT @cH_Asad_92: The world is silent because the dead is Muslim\\n\\n#دنیارفتہ_رفتہ_بن_گئی_کشمیر https://t.co/k8saw4lLrP\n",
      "\n",
      "\n",
      "-----------------------------------------------\n",
      "\n",
      "\n",
      "For hashtag :  #MeAt20\n",
      "\n",
      "         User Name User Location                                                                                                                                         Tweet\n",
      "0  mentalmolestatn  Mumbai        RT @MinhazMerchant: #MeAt20 At 17 actually, off to boarding school in England, garlanded by my mum at the airport (parents did that sort of…\n",
      "1  SamimSidiq                     #MeAt20(21 i think) https://t.co/TPMvrTplAA                                                                                                 \n",
      "\n",
      "\n",
      "-----------------------------------------------\n",
      "\n",
      "\n",
      "For hashtag :  #corona\n",
      "\n",
      "   User Name User Location                                                                                                                                           Tweet\n",
      "0  khassan56                RT @gobadi: Online conference\\n\\n\"#IRAN- Ending lockdown at the peak of #Corona  pandemic.   Reasons – True dimensions – Threats to Internati…\n",
      "1  VBSPRVESH                RT @EkDiplomat: #CoronaPandemic विश्व से खतम होते ही\\nचीन पर कौन सा देश सबसे पहले हमला कर सकता है? \\n\\n#CoronavirusOutbreak #Corona           \n",
      "\n",
      "\n",
      "-----------------------------------------------\n",
      "\n",
      "\n",
      "For hashtag :  #karachi\n",
      "\n",
      "  User Name    User Location                                                                                                                                                   Tweet\n",
      "0  AzizRaje  London, England  RT @WifaqulUlama: 📌 #CoronaVirus &amp; #Ramadan2020 \\n\\n❶ #WHO mitigation guidelines for #Ramadan \\n\\nhttps://t.co/KBe9OuOT1f\\n\\n❷ #President of #Pak…\n",
      "1  ashhar_1  my world         @Umar_Arshed My ♥️ly n only city of #KARACHI                                                                                                          \n",
      "\n",
      "\n",
      "-----------------------------------------------\n",
      "\n",
      "\n"
     ]
    },
    {
     "data": {
      "image/png": "[encoded data removed]",
      "text/plain": [
       "<Figure size 432x288 with 1 Axes>"
      ]
     },
     "metadata": {
      "needs_background": "light"
     },
     "output_type": "display_data"
    }
   ],
   "source": [
    "for i in range(2,9,2):\n",
    "    print('This is for threads no: ',i)\n",
    "    visualize_time_span_usage(multi_threadings(api_request, urls, 2), 'All mixed')"
   ]
  },
  {
   "cell_type": "code",
   "execution_count": 16,
   "metadata": {},
   "outputs": [],
   "source": [
    "# visualize_time_span_usage(multi_processing(api_request, urls, 1), \"Single Process\")"
   ]
  },
  {
   "cell_type": "markdown",
   "metadata": {},
   "source": [
    "# Here sir we can achive thousands of views on youtube by running it parallely"
   ]
  },
  {
   "cell_type": "code",
   "execution_count": 39,
   "metadata": {},
   "outputs": [
    {
     "data": {
      "text/plain": [
       "['https://www.youtube.com/watch?v=YB6JxDRAt8M',\n",
       " 'https://www.youtube.com/watch?v=YB6JxDRAt8M',\n",
       " 'https://www.youtube.com/watch?v=YB6JxDRAt8M',\n",
       " 'https://www.youtube.com/watch?v=YB6JxDRAt8M',\n",
       " 'https://www.youtube.com/watch?v=YB6JxDRAt8M']"
      ]
     },
     "execution_count": 39,
     "metadata": {},
     "output_type": "execute_result"
    }
   ],
   "source": [
    "arr=['https://www.youtube.com/watch?v=YB6JxDRAt8M' for i in range(5)]\n",
    "arr"
   ]
  },
  {
   "cell_type": "markdown",
   "metadata": {},
   "source": [
    "### This is just simple to run insequence not parallelism"
   ]
  },
  {
   "cell_type": "code",
   "execution_count": 33,
   "metadata": {},
   "outputs": [
    {
     "name": "stdout",
     "output_type": "stream",
     "text": [
      "https://www.youtube.com/watch?v=YB6JxDRAt8M\n",
      "https://www.youtube.com/watch?v=YB6JxDRAt8M\n",
      "https://www.youtube.com/watch?v=YB6JxDRAt8M\n",
      "Wall time: 43.9 s\n"
     ]
    },
    {
     "data": {
      "text/plain": [
       "[(1587224578.9626667, 1587224592.6452613),\n",
       " (1587224592.6452613, 1587224608.8485794),\n",
       " (1587224608.8485794, 1587224622.9115317)]"
      ]
     },
     "execution_count": 33,
     "metadata": {},
     "output_type": "execute_result"
    }
   ],
   "source": [
    "%time [bot_auto_views_youtube(url, 1) for url in arr]"
   ]
  },
  {
   "cell_type": "markdown",
   "metadata": {},
   "source": [
    "## Now here we are opening multiple instances of browser and interacting with DOM parallely"
   ]
  },
  {
   "cell_type": "code",
   "execution_count": 34,
   "metadata": {},
   "outputs": [
    {
     "name": "stdout",
     "output_type": "stream",
     "text": [
      "https://www.youtube.com/watch?v=YB6JxDRAt8M\n",
      "https://www.youtube.com/watch?v=YB6JxDRAt8M\n",
      "https://www.youtube.com/watch?v=YB6JxDRAt8M\n"
     ]
    },
    {
     "data": {
      "text/plain": [
       "52.560999631881714"
      ]
     },
     "execution_count": 34,
     "metadata": {},
     "output_type": "execute_result"
    },
    {
     "data": {
      "image/png": "[encoded data removed]",
      "text/plain": [
       "<Figure size 432x288 with 1 Axes>"
      ]
     },
     "metadata": {
      "needs_background": "light"
     },
     "output_type": "display_data"
    }
   ],
   "source": [
    "visualize_time_span_usage(multi_threadings(bot_auto_views_youtube, arr, 1), \"just 1 thread\")"
   ]
  },
  {
   "cell_type": "code",
   "execution_count": 40,
   "metadata": {},
   "outputs": [
    {
     "name": "stdout",
     "output_type": "stream",
     "text": [
      "https://www.youtube.com/watch?v=YB6JxDRAt8M\n",
      "https://www.youtube.com/watch?v=YB6JxDRAt8M\n",
      "https://www.youtube.com/watch?v=YB6JxDRAt8M\n",
      "https://www.youtube.com/watch?v=YB6JxDRAt8M\n",
      "ERROR: Message: no such window: target window already closed\n",
      "from unknown error: web view not found\n",
      "  (Session info: chrome=80.0.3987.163)\n",
      "\n"
     ]
    },
    {
     "data": {
      "text/plain": [
       "39.384286642074585"
      ]
     },
     "execution_count": 40,
     "metadata": {},
     "output_type": "execute_result"
    },
    {
     "data": {
      "image/png": "[encoded data removed]",
      "text/plain": [
       "<Figure size 432x288 with 1 Axes>"
      ]
     },
     "metadata": {
      "needs_background": "light"
     },
     "output_type": "display_data"
    }
   ],
   "source": [
    "visualize_time_span_usage(multi_threadings(bot_auto_views_youtube, arr, 4), \"4 thread\")"
   ]
  },
  {
   "cell_type": "code",
   "execution_count": 41,
   "metadata": {},
   "outputs": [
    {
     "name": "stdout",
     "output_type": "stream",
     "text": [
      "ERROR: Message: no such window: target window already closed\n",
      "from unknown error: web view not found\n",
      "  (Session info: chrome=80.0.3987.163)\n",
      "\n",
      "ERROR: Message: no such window: target window already closed\n",
      "from unknown error: web view not found\n",
      "  (Session info: chrome=80.0.3987.163)\n",
      "\n",
      "ERROR: Message: no such window: target window already closed\n",
      "from unknown error: web view not found\n",
      "  (Session info: chrome=80.0.3987.163)\n",
      "\n",
      "ERROR: Message: no such window: target window already closed\n",
      "from unknown error: web view not found\n",
      "  (Session info: chrome=80.0.3987.163)\n",
      "\n",
      "ERROR: Message: chrome not reachable\n",
      "  (Session info: chrome=80.0.3987.163)\n",
      "\n"
     ]
    },
    {
     "data": {
      "text/plain": [
       "[(1587225548.5317101, 1587225568.5567005),\n",
       " (1587225548.5317101, 1587225560.1808355),\n",
       " (1587225548.5323327, 1587225585.2830343),\n",
       " (1587225548.5324821, 1587225565.640991),\n",
       " (1587225548.5324821, 1587225563.0449932)]"
      ]
     },
     "execution_count": 41,
     "metadata": {},
     "output_type": "execute_result"
    }
   ],
   "source": [
    "threadLocal = threading.local()\n",
    "ThreadPool(5).map(bot_auto_views_youtube,arr)"
   ]
  },
  {
   "cell_type": "code",
   "execution_count": null,
   "metadata": {},
   "outputs": [],
   "source": []
  }
 ],
 "metadata": {
  "kernelspec": {
   "display_name": "Python 3",
   "language": "python",
   "name": "python3"
  },
  "language_info": {
   "codemirror_mode": {
    "name": "ipython",
    "version": 3
   },
   "file_extension": ".py",
   "mimetype": "text/x-python",
   "name": "python",
   "nbconvert_exporter": "python",
   "pygments_lexer": "ipython3",
   "version": "3.7.4"
  }
 },
 "nbformat": 4,
 "nbformat_minor": 4
}
